{
  "nbformat": 4,
  "nbformat_minor": 0,
  "metadata": {
    "colab": {
      "provenance": [],
      "machine_shape": "hm",
      "gpuType": "A100",
      "collapsed_sections": [
        "TmdfvVW9G5O8",
        "iJEKmvxnyMza",
        "DAqusNoAzoeK"
      ],
      "mount_file_id": "1B_4C0A9lsAM09OtxFSmw5vD254SUEwn5",
      "authorship_tag": "ABX9TyOrVAPQcLIwR8G/wd2J38Gn",
      "include_colab_link": true
    },
    "kernelspec": {
      "name": "python3",
      "display_name": "Python 3"
    },
    "language_info": {
      "name": "python"
    },
    "accelerator": "GPU"
  },
  "cells": [
    {
      "cell_type": "markdown",
      "metadata": {
        "id": "view-in-github",
        "colab_type": "text"
      },
      "source": [
        "<a href=\"https://colab.research.google.com/github/HasanF19/YZM308_FINAL_PROJECT/blob/main/YZM308_Final_Atakan.ipynb\" target=\"_parent\"><img src=\"https://colab.research.google.com/assets/colab-badge.svg\" alt=\"Open In Colab\"/></a>"
      ]
    },
    {
      "cell_type": "markdown",
      "source": [
        "Hasan ***Atakan*** Öztürk 220212002\n",
        "\n",
        "Üretken Yapay Zeka YZM308 Final Projesi Türkçe şarkı sözü Üretimi\n"
      ],
      "metadata": {
        "id": "TmdfvVW9G5O8"
      }
    },
    {
      "cell_type": "markdown",
      "source": [
        "#Proje Temeli GenAi kısmı"
      ],
      "metadata": {
        "id": "P499Tr9L3p_w"
      }
    },
    {
      "cell_type": "markdown",
      "source": [
        "##1.Kurulum ve import"
      ],
      "metadata": {
        "id": "bI0yaAu4H5LJ"
      }
    },
    {
      "cell_type": "code",
      "source": [
        "!pip install --quiet sentencepiece tensorflow pandas openpyxl\n"
      ],
      "metadata": {
        "id": "Ot1juXobG3DU"
      },
      "execution_count": 32,
      "outputs": []
    },
    {
      "cell_type": "code",
      "source": [
        "\n",
        "import pandas as pd, sentencepiece as spm, tensorflow as tf, numpy as np, os, io, textwrap\n",
        "import matplotlib.pyplot as plt\n",
        "import seaborn as sns\n",
        "from tensorflow.keras.callbacks import EarlyStopping, ModelCheckpoint\n",
        "from tensorflow.keras.optimizers import Adam\n"
      ],
      "metadata": {
        "id": "CKrF7WldDq9Y"
      },
      "execution_count": 48,
      "outputs": []
    },
    {
      "cell_type": "markdown",
      "source": [
        "##2.Dataset Tanıtım"
      ],
      "metadata": {
        "id": "xWjtsEcKH8gW"
      }
    },
    {
      "cell_type": "code",
      "source": [
        "#Öncelikle sizlere datasetimi tanıtmak istiyorum csv formatındaki bu dosyanın düzenlenmiş hali kullanılmaktadır\n",
        "# *yüklüyoruz*\n",
        "data = pd.read_csv(\"/content/drive/MyDrive/Python/son_hali_artik.csv\")\n",
        "data.head()"
      ],
      "metadata": {
        "colab": {
          "base_uri": "https://localhost:8080/",
          "height": 206
        },
        "id": "uSnP6hH8E-un",
        "outputId": "fbfdc1db-3265-4087-8478-e955ec4c4375"
      },
      "execution_count": 34,
      "outputs": [
        {
          "output_type": "execute_result",
          "data": {
            "text/plain": [
              "      sarkici                                          sarkisi  \\\n",
              "0  Ahmet Kaya  (Potbori) Fabrika Kızı, Cama Çıkma, Fabrika Önü   \n",
              "1  Ahmet Kaya                                        Acı Ninni   \n",
              "2  Ahmet Kaya                                 Acılara Tutunmak   \n",
              "3  Ahmet Kaya                                    Ada Sahilleri   \n",
              "4  Ahmet Kaya                                     Adı Bahtiyar   \n",
              "\n",
              "                 album                                             sozler  \n",
              "0        Şafak Türküsü  Bir mavi otobüs gelirdi\\nSeni alır giderdi\\nO ...  \n",
              "1     Baş Kaldırıyorum  Uyusun ha iyi büyüsün,\\nCamlar buğulanmasın\\nS...  \n",
              "2     Acılara Tutunmak  Kavuşmak özgürlükse özgürdük ikimiz de\\nElleri...  \n",
              "3     Hoşçakalın Gözüm  Ada sahillerinde bekliyorum\\nHer zaman yolları...  \n",
              "4  Dinle Sevgili Ülkem  Geçiyor önümden, sirenler içinde\\nAh eller üst...  "
            ],
            "text/html": [
              "\n",
              "  <div id=\"df-f54a6a6c-8518-4d55-aa45-5e839212f1b6\" class=\"colab-df-container\">\n",
              "    <div>\n",
              "<style scoped>\n",
              "    .dataframe tbody tr th:only-of-type {\n",
              "        vertical-align: middle;\n",
              "    }\n",
              "\n",
              "    .dataframe tbody tr th {\n",
              "        vertical-align: top;\n",
              "    }\n",
              "\n",
              "    .dataframe thead th {\n",
              "        text-align: right;\n",
              "    }\n",
              "</style>\n",
              "<table border=\"1\" class=\"dataframe\">\n",
              "  <thead>\n",
              "    <tr style=\"text-align: right;\">\n",
              "      <th></th>\n",
              "      <th>sarkici</th>\n",
              "      <th>sarkisi</th>\n",
              "      <th>album</th>\n",
              "      <th>sozler</th>\n",
              "    </tr>\n",
              "  </thead>\n",
              "  <tbody>\n",
              "    <tr>\n",
              "      <th>0</th>\n",
              "      <td>Ahmet Kaya</td>\n",
              "      <td>(Potbori) Fabrika Kızı, Cama Çıkma, Fabrika Önü</td>\n",
              "      <td>Şafak Türküsü</td>\n",
              "      <td>Bir mavi otobüs gelirdi\\nSeni alır giderdi\\nO ...</td>\n",
              "    </tr>\n",
              "    <tr>\n",
              "      <th>1</th>\n",
              "      <td>Ahmet Kaya</td>\n",
              "      <td>Acı Ninni</td>\n",
              "      <td>Baş Kaldırıyorum</td>\n",
              "      <td>Uyusun ha iyi büyüsün,\\nCamlar buğulanmasın\\nS...</td>\n",
              "    </tr>\n",
              "    <tr>\n",
              "      <th>2</th>\n",
              "      <td>Ahmet Kaya</td>\n",
              "      <td>Acılara Tutunmak</td>\n",
              "      <td>Acılara Tutunmak</td>\n",
              "      <td>Kavuşmak özgürlükse özgürdük ikimiz de\\nElleri...</td>\n",
              "    </tr>\n",
              "    <tr>\n",
              "      <th>3</th>\n",
              "      <td>Ahmet Kaya</td>\n",
              "      <td>Ada Sahilleri</td>\n",
              "      <td>Hoşçakalın Gözüm</td>\n",
              "      <td>Ada sahillerinde bekliyorum\\nHer zaman yolları...</td>\n",
              "    </tr>\n",
              "    <tr>\n",
              "      <th>4</th>\n",
              "      <td>Ahmet Kaya</td>\n",
              "      <td>Adı Bahtiyar</td>\n",
              "      <td>Dinle Sevgili Ülkem</td>\n",
              "      <td>Geçiyor önümden, sirenler içinde\\nAh eller üst...</td>\n",
              "    </tr>\n",
              "  </tbody>\n",
              "</table>\n",
              "</div>\n",
              "    <div class=\"colab-df-buttons\">\n",
              "\n",
              "  <div class=\"colab-df-container\">\n",
              "    <button class=\"colab-df-convert\" onclick=\"convertToInteractive('df-f54a6a6c-8518-4d55-aa45-5e839212f1b6')\"\n",
              "            title=\"Convert this dataframe to an interactive table.\"\n",
              "            style=\"display:none;\">\n",
              "\n",
              "  <svg xmlns=\"http://www.w3.org/2000/svg\" height=\"24px\" viewBox=\"0 -960 960 960\">\n",
              "    <path d=\"M120-120v-720h720v720H120Zm60-500h600v-160H180v160Zm220 220h160v-160H400v160Zm0 220h160v-160H400v160ZM180-400h160v-160H180v160Zm440 0h160v-160H620v160ZM180-180h160v-160H180v160Zm440 0h160v-160H620v160Z\"/>\n",
              "  </svg>\n",
              "    </button>\n",
              "\n",
              "  <style>\n",
              "    .colab-df-container {\n",
              "      display:flex;\n",
              "      gap: 12px;\n",
              "    }\n",
              "\n",
              "    .colab-df-convert {\n",
              "      background-color: #E8F0FE;\n",
              "      border: none;\n",
              "      border-radius: 50%;\n",
              "      cursor: pointer;\n",
              "      display: none;\n",
              "      fill: #1967D2;\n",
              "      height: 32px;\n",
              "      padding: 0 0 0 0;\n",
              "      width: 32px;\n",
              "    }\n",
              "\n",
              "    .colab-df-convert:hover {\n",
              "      background-color: #E2EBFA;\n",
              "      box-shadow: 0px 1px 2px rgba(60, 64, 67, 0.3), 0px 1px 3px 1px rgba(60, 64, 67, 0.15);\n",
              "      fill: #174EA6;\n",
              "    }\n",
              "\n",
              "    .colab-df-buttons div {\n",
              "      margin-bottom: 4px;\n",
              "    }\n",
              "\n",
              "    [theme=dark] .colab-df-convert {\n",
              "      background-color: #3B4455;\n",
              "      fill: #D2E3FC;\n",
              "    }\n",
              "\n",
              "    [theme=dark] .colab-df-convert:hover {\n",
              "      background-color: #434B5C;\n",
              "      box-shadow: 0px 1px 3px 1px rgba(0, 0, 0, 0.15);\n",
              "      filter: drop-shadow(0px 1px 2px rgba(0, 0, 0, 0.3));\n",
              "      fill: #FFFFFF;\n",
              "    }\n",
              "  </style>\n",
              "\n",
              "    <script>\n",
              "      const buttonEl =\n",
              "        document.querySelector('#df-f54a6a6c-8518-4d55-aa45-5e839212f1b6 button.colab-df-convert');\n",
              "      buttonEl.style.display =\n",
              "        google.colab.kernel.accessAllowed ? 'block' : 'none';\n",
              "\n",
              "      async function convertToInteractive(key) {\n",
              "        const element = document.querySelector('#df-f54a6a6c-8518-4d55-aa45-5e839212f1b6');\n",
              "        const dataTable =\n",
              "          await google.colab.kernel.invokeFunction('convertToInteractive',\n",
              "                                                    [key], {});\n",
              "        if (!dataTable) return;\n",
              "\n",
              "        const docLinkHtml = 'Like what you see? Visit the ' +\n",
              "          '<a target=\"_blank\" href=https://colab.research.google.com/notebooks/data_table.ipynb>data table notebook</a>'\n",
              "          + ' to learn more about interactive tables.';\n",
              "        element.innerHTML = '';\n",
              "        dataTable['output_type'] = 'display_data';\n",
              "        await google.colab.output.renderOutput(dataTable, element);\n",
              "        const docLink = document.createElement('div');\n",
              "        docLink.innerHTML = docLinkHtml;\n",
              "        element.appendChild(docLink);\n",
              "      }\n",
              "    </script>\n",
              "  </div>\n",
              "\n",
              "\n",
              "    <div id=\"df-71a2b6d3-9ab9-442e-90cb-baca382695f1\">\n",
              "      <button class=\"colab-df-quickchart\" onclick=\"quickchart('df-71a2b6d3-9ab9-442e-90cb-baca382695f1')\"\n",
              "                title=\"Suggest charts\"\n",
              "                style=\"display:none;\">\n",
              "\n",
              "<svg xmlns=\"http://www.w3.org/2000/svg\" height=\"24px\"viewBox=\"0 0 24 24\"\n",
              "     width=\"24px\">\n",
              "    <g>\n",
              "        <path d=\"M19 3H5c-1.1 0-2 .9-2 2v14c0 1.1.9 2 2 2h14c1.1 0 2-.9 2-2V5c0-1.1-.9-2-2-2zM9 17H7v-7h2v7zm4 0h-2V7h2v10zm4 0h-2v-4h2v4z\"/>\n",
              "    </g>\n",
              "</svg>\n",
              "      </button>\n",
              "\n",
              "<style>\n",
              "  .colab-df-quickchart {\n",
              "      --bg-color: #E8F0FE;\n",
              "      --fill-color: #1967D2;\n",
              "      --hover-bg-color: #E2EBFA;\n",
              "      --hover-fill-color: #174EA6;\n",
              "      --disabled-fill-color: #AAA;\n",
              "      --disabled-bg-color: #DDD;\n",
              "  }\n",
              "\n",
              "  [theme=dark] .colab-df-quickchart {\n",
              "      --bg-color: #3B4455;\n",
              "      --fill-color: #D2E3FC;\n",
              "      --hover-bg-color: #434B5C;\n",
              "      --hover-fill-color: #FFFFFF;\n",
              "      --disabled-bg-color: #3B4455;\n",
              "      --disabled-fill-color: #666;\n",
              "  }\n",
              "\n",
              "  .colab-df-quickchart {\n",
              "    background-color: var(--bg-color);\n",
              "    border: none;\n",
              "    border-radius: 50%;\n",
              "    cursor: pointer;\n",
              "    display: none;\n",
              "    fill: var(--fill-color);\n",
              "    height: 32px;\n",
              "    padding: 0;\n",
              "    width: 32px;\n",
              "  }\n",
              "\n",
              "  .colab-df-quickchart:hover {\n",
              "    background-color: var(--hover-bg-color);\n",
              "    box-shadow: 0 1px 2px rgba(60, 64, 67, 0.3), 0 1px 3px 1px rgba(60, 64, 67, 0.15);\n",
              "    fill: var(--button-hover-fill-color);\n",
              "  }\n",
              "\n",
              "  .colab-df-quickchart-complete:disabled,\n",
              "  .colab-df-quickchart-complete:disabled:hover {\n",
              "    background-color: var(--disabled-bg-color);\n",
              "    fill: var(--disabled-fill-color);\n",
              "    box-shadow: none;\n",
              "  }\n",
              "\n",
              "  .colab-df-spinner {\n",
              "    border: 2px solid var(--fill-color);\n",
              "    border-color: transparent;\n",
              "    border-bottom-color: var(--fill-color);\n",
              "    animation:\n",
              "      spin 1s steps(1) infinite;\n",
              "  }\n",
              "\n",
              "  @keyframes spin {\n",
              "    0% {\n",
              "      border-color: transparent;\n",
              "      border-bottom-color: var(--fill-color);\n",
              "      border-left-color: var(--fill-color);\n",
              "    }\n",
              "    20% {\n",
              "      border-color: transparent;\n",
              "      border-left-color: var(--fill-color);\n",
              "      border-top-color: var(--fill-color);\n",
              "    }\n",
              "    30% {\n",
              "      border-color: transparent;\n",
              "      border-left-color: var(--fill-color);\n",
              "      border-top-color: var(--fill-color);\n",
              "      border-right-color: var(--fill-color);\n",
              "    }\n",
              "    40% {\n",
              "      border-color: transparent;\n",
              "      border-right-color: var(--fill-color);\n",
              "      border-top-color: var(--fill-color);\n",
              "    }\n",
              "    60% {\n",
              "      border-color: transparent;\n",
              "      border-right-color: var(--fill-color);\n",
              "    }\n",
              "    80% {\n",
              "      border-color: transparent;\n",
              "      border-right-color: var(--fill-color);\n",
              "      border-bottom-color: var(--fill-color);\n",
              "    }\n",
              "    90% {\n",
              "      border-color: transparent;\n",
              "      border-bottom-color: var(--fill-color);\n",
              "    }\n",
              "  }\n",
              "</style>\n",
              "\n",
              "      <script>\n",
              "        async function quickchart(key) {\n",
              "          const quickchartButtonEl =\n",
              "            document.querySelector('#' + key + ' button');\n",
              "          quickchartButtonEl.disabled = true;  // To prevent multiple clicks.\n",
              "          quickchartButtonEl.classList.add('colab-df-spinner');\n",
              "          try {\n",
              "            const charts = await google.colab.kernel.invokeFunction(\n",
              "                'suggestCharts', [key], {});\n",
              "          } catch (error) {\n",
              "            console.error('Error during call to suggestCharts:', error);\n",
              "          }\n",
              "          quickchartButtonEl.classList.remove('colab-df-spinner');\n",
              "          quickchartButtonEl.classList.add('colab-df-quickchart-complete');\n",
              "        }\n",
              "        (() => {\n",
              "          let quickchartButtonEl =\n",
              "            document.querySelector('#df-71a2b6d3-9ab9-442e-90cb-baca382695f1 button');\n",
              "          quickchartButtonEl.style.display =\n",
              "            google.colab.kernel.accessAllowed ? 'block' : 'none';\n",
              "        })();\n",
              "      </script>\n",
              "    </div>\n",
              "\n",
              "    </div>\n",
              "  </div>\n"
            ],
            "application/vnd.google.colaboratory.intrinsic+json": {
              "type": "dataframe",
              "variable_name": "data",
              "summary": "{\n  \"name\": \"data\",\n  \"rows\": 4975,\n  \"fields\": [\n    {\n      \"column\": \"sarkici\",\n      \"properties\": {\n        \"dtype\": \"category\",\n        \"num_unique_values\": 31,\n        \"samples\": [\n          \"Yeni T\\u00fcrk\\u00fc\",\n          \"Mustafa Sandal\",\n          \"Sezen Aksu\"\n        ],\n        \"semantic_type\": \"\",\n        \"description\": \"\"\n      }\n    },\n    {\n      \"column\": \"sarkisi\",\n      \"properties\": {\n        \"dtype\": \"string\",\n        \"num_unique_values\": 4613,\n        \"samples\": [\n          \"Belki Al\\u0131\\u015fman Laz\\u0131m\",\n          \"Kopya Kalpler\",\n          \"\\u0130lk De\\u011fil\"\n        ],\n        \"semantic_type\": \"\",\n        \"description\": \"\"\n      }\n    },\n    {\n      \"column\": \"album\",\n      \"properties\": {\n        \"dtype\": \"category\",\n        \"num_unique_values\": 669,\n        \"samples\": [\n          \"Hasret R\\u00fczgarlar\\u0131\",\n          \"M\\u00fcptezhel\",\n          \"Turuncu\"\n        ],\n        \"semantic_type\": \"\",\n        \"description\": \"\"\n      }\n    },\n    {\n      \"column\": \"sozler\",\n      \"properties\": {\n        \"dtype\": \"string\",\n        \"num_unique_values\": 4940,\n        \"samples\": [\n          \"Hayalle ya\\u015farken ger\\u00e7ek d\\u00fcnyada\\nZaman\\u0131 i\\u00e7mi\\u015fiz haberimiz yok\\n\\u00d6m\\u00fcrle y\\u00fcz y\\u00fcze geldik aynada \\nHarcan\\u0131p gitmi\\u015fiz haberimiz yok\\nK\\u00f6t\\u00fc bir s\\u00f6z gibi d\\u00fc\\u015ft\\u00fck dillere\\nYaln\\u0131\\u015f yol se\\u00e7mi\\u015fiz haberimiz yok\\n\\u00dcmitle ba\\u011flan\\u0131p ac\\u0131 g\\u00fcnlere\\nG\\u00f6z ya\\u015f\\u0131 ekmi\\u015fiz haberimiz yok\\nG\\u00f6z ya\\u015f\\u0131 ekmi\\u015fiz haberimiz yok\\nHayalle ya\\u015farken ger\\u00e7ek d\\u00fcnyada\\nZaman\\u0131 i\\u00e7mi\\u015fiz haberimiz yok\\n\\u00d6m\\u00fcrle y\\u00fcz y\\u00fcze geldik aynada \\nHarcan\\u0131p gitmi\\u015fiz haberimiz yok\\nBo\\u015f yere ko\\u015farken hayat yolunda\\nNe dertler \\u00e7ekmi\\u015fiz bilenimiz yok G\\u00f6zlerden d\\u00f6k\\u00fclen g\\u00f6zya\\u015flar\\u0131nda\\nEriyip gitmi\\u015fiz haberimiz yok\\nK\\u00f6t\\u00fc bir s\\u00f6z gibi d\\u00fc\\u015ft\\u00fck dillere\\nYaln\\u0131\\u015f yol se\\u00e7mi\\u015fiz haberimiz yok\\n\\u00dcmitle ba\\u011flan\\u0131p ac\\u0131 g\\u00fcnlere\\nG\\u00f6z ya\\u015f\\u0131 d\\u00f6km\\u00fc\\u015f\\u00fcz haberimiz yok\\nG\\u00f6zya\\u015f\\u0131 d\\u00f6km\\u00fc\\u015f\\u00fcz haberimiz yok\\nHayalle ya\\u015farken ger\\u00e7ek d\\u00fcnyada\\nZaman\\u0131 i\\u00e7mi\\u015fiz haberimiz yok\\n\\u00d6m\\u00fcrle y\\u00fcz y\\u00fcze geldik aynada \\nHarcan\\u0131p gitmi\\u015fiz haberimiz yok\\nHarcan\\u0131p gitmi\\u015fiz haberimiz yok\\nEriyip bitme\\u015fiz haberimiz yok\\nT\\u00fckenip gitmi\\u015fiz haberimiz yok\",\n          \"Bu bir yalan bu bir ceza\\nBu bir talan g\\u00f6nl\\u00fcm bu bir veda\\nNe bir tav\\u0131r ne bir eda\\nTutup savur g\\u00f6nl\\u00fcm bu son elveda\\nHat\\u0131rlar\\u0131m hi\\u00e7 gidemem deyi\\u015fini\\nHat\\u0131rlar\\u0131m erken \\u00f6l\\u00fcr\\u00fcm deyi\\u015fini\\nAldan\\u0131r\\u0131m ben zaten g\\u00fcl\\u00fc\\u015f\\u00fcne ahh g\\u00fcl\\u00fc\\u015f\\u00fcne\\nAldan\\u0131r\\u0131m g\\u00fcl\\u00fc\\u015f\\u00fcne\\nBu bir yalan bu bir ceza\\nBu bir talan g\\u00f6nl\\u00fcm bu\\nBu son elveda a\\u015fk de\\u011fil keza\\nNe bir tav\\u0131r ne bir eda\\nSavur savrul g\\u00f6nl\\u00fcm bu bu son elveda Aldan\\u0131r\\u0131m ben sana\\nBu her mevsim s\\u00f6yler misin\\nMecbur eden buna yar sen misin\\nSoran beni yar\\u0131m bulur\\nSen bir tek g\\u00fcl ey yar tamam olur\\nHat\\u0131rlar\\u0131m hi\\u00e7 gidemem deyi\\u015fini\\nHat\\u0131rlar\\u0131m erken \\u00f6l\\u00fcr\\u00fcm deyi\\u015fini\\nAldan\\u0131r\\u0131m ben zaten g\\u00fcl\\u00fc\\u015f\\u00fcne ahh g\\u00fcl\\u00fc\\u015f\\u00fcne\\nAldan\\u0131r\\u0131m g\\u00fcl\\u00fc\\u015f\\u00fcne\\nBu bir yalan bu bir ceza\\nSavur savrul g\\u00f6nl\\u00fcm bu bu son elveda\\nAldan\\u0131r\\u0131m ben sana\",\n          \"Yar\\u0131n yine yapraklar can\\u0131m oy\\nYar\\u0131n yine ya\\u011fmurlar can\\u0131m oy\\nArd\\u0131ndan yine so\\u011fuk\\nArd\\u0131ndan yine tipi\\nYine palto yine gocuk\\nYine odun yine k\\u00f6m\\u00fcr\\nYine s\\u00f6vg\\u00fc karak\\u0131\\u015fa\\nYine bahara selam\\nEderler yine tombul can\\u0131m oy\\nGelirler yine c\\u0131l\\u0131z can\\u0131m oy\\nKiralar yine azg\\u0131n\\nKuyruklar yine dilsiz Yine m\\u0131zm\\u0131z s\\u0131k\\u0131nt\\u0131\\nYine hep v\\u0131d\\u0131 v\\u0131d\\u0131\\nYine hep televizyon\\nYine hep Ortado\\u011fu\\nUykular da beter yine can\\u0131m oy\\nUykular da kara kuru can\\u0131m oy\\nYine bezgin sabahlar\\nYine y\\u0131lg\\u0131n ak\\u015famlar\\nYine hep dalavere\\nYine hep o kuruntu\\nYine umut yine d\\u00fc\\u015f\\nYine hep beklero\\u011flu\"\n        ],\n        \"semantic_type\": \"\",\n        \"description\": \"\"\n      }\n    }\n  ]\n}"
            }
          },
          "metadata": {},
          "execution_count": 34
        }
      ]
    },
    {
      "cell_type": "code",
      "source": [
        "print(\"Şarkıcı listesi---->Şarkı sayısı:\\n\",data.sarkici.value_counts())\n",
        "print(\"Dataset boyutu:\",data.shape)"
      ],
      "metadata": {
        "colab": {
          "base_uri": "https://localhost:8080/"
        },
        "id": "nxhcmOzhFR8j",
        "outputId": "5f6d78d8-a1e6-4641-a3c0-332b3447374e"
      },
      "execution_count": 35,
      "outputs": [
        {
          "output_type": "stream",
          "name": "stdout",
          "text": [
            "Şarkıcı listesi---->Şarkı sayısı:\n",
            " sarkici\n",
            "Zeki Müren                 500\n",
            "Müslüm Gürses              432\n",
            "Sezen Aksu                 357\n",
            "Sagopa Kajmer              321\n",
            "Orhan Gencebay             295\n",
            "Serdar Ortaç               243\n",
            "Ahmet Kaya                 224\n",
            "Ceza                       211\n",
            "Barış Manço                157\n",
            "Sertab Erener              156\n",
            "Zülfü Livaneli             148\n",
            "Cem Adrian                 140\n",
            "Tarkan                     138\n",
            "Candan Erçetin             137\n",
            "Cem Karaca                 136\n",
            "Kayahan                    124\n",
            "Mustafa Sandal             120\n",
            "Nazan Öncel                120\n",
            "Feridun Düzağaç            107\n",
            "Yaşar                      106\n",
            "Mazhar Fuat Özkan (MFÖ)     99\n",
            "Şebnem Ferah                97\n",
            "Mor Ve Ötesi                97\n",
            "Yeni Türkü                  95\n",
            "Teoman                      85\n",
            "Duman                       84\n",
            "Mabel Matiz                 72\n",
            "Pinhani                     68\n",
            "Can Bonomo                  60\n",
            "Ezhel                       23\n",
            "Büyük Ev Ablukada           23\n",
            "Name: count, dtype: int64\n",
            "Dataset boyutu: (4975, 4)\n"
          ]
        }
      ]
    },
    {
      "cell_type": "markdown",
      "source": [
        "##3.Dosya okuma ve epoch seçimi temel gövde\n",
        "*###Seçilen epochlar 9.Aşamada kullanılacak*"
      ],
      "metadata": {
        "id": "ynLyC5EhIC-P"
      }
    },
    {
      "cell_type": "code",
      "execution_count": 41,
      "metadata": {
        "id": "KLf4EUoDC4ot"
      },
      "outputs": [],
      "source": [
        "EXCEL_FILE  = \"/content/drive/MyDrive/Python/turkish.xlsx\"     # yüklediğiniz dosya adı\n",
        "TEXT_COLUMN = \"lyrics\"# sözlerin bulunduğu sütun\n",
        "MODEL_PREFIX = \"tr_lyric\" # tokenizer dosya adı\n",
        "VOCAB_SIZE   = 16000# BPE sözlük boyutu\n",
        "SEQ_LEN      = 256# giriş uzunluğu (token)\n",
        "EMBED_DIM    = 256\n",
        "LSTM_UNITS   = 1024\n",
        "BATCH_SIZE   = 128\n",
        "EPOCHS       = 20\n",
        "#3 epoch ile başladık A100 ile ort 10dk model.fit 9.aşamada\n",
        "#20 epoch batchi de 128 yaptık ortalama 20dk sürecek\n",
        "#SEQ_LEN= 256 EMBED_DIM= 512 LSTM_UNITS=1024 BATCH_SIZE=128 40 EPOCHS KOD PATLADI\n",
        "\n",
        "\n",
        "\n",
        "\n",
        "\n"
      ]
    },
    {
      "cell_type": "code",
      "source": [
        "es = EarlyStopping(\n",
        "    monitor='loss',           # 'val_loss' yerine 'loss'\n",
        "    patience=5,               # kaç epoch sabredeceği\n",
        "    restore_best_weights=True # en düşük eğitim kaybını geri yükle\n",
        ")"
      ],
      "metadata": {
        "id": "RACd3lJr6kSb"
      },
      "execution_count": 42,
      "outputs": []
    },
    {
      "cell_type": "markdown",
      "source": [
        "##4.Veri işleme adım 1 txt çevirme\n",
        "*### excel işleri karıştırdı veriyi işlemek için txt çektik (sonradan öğrendim utf-8 hatasıymış)*\n"
      ],
      "metadata": {
        "id": "QehE-8PJIUzf"
      }
    },
    {
      "cell_type": "code",
      "source": [
        "df = pd.read_excel(EXCEL_FILE)\n",
        "lines = df[TEXT_COLUMN].dropna().astype(str).tolist()\n",
        "\n",
        "with open(\"corpus.txt\", \"w\", encoding=\"utf-8\") as f:\n",
        "    for l in lines:\n",
        "        # her satırı tek bir örnek; varsa satır sonlarında aşağı inecek(olmadı)\n",
        "        f.write(l.replace(\"\\r\", \"\") + \"\\n\")\n"
      ],
      "metadata": {
        "id": "RMa8lGnJEdF0"
      },
      "execution_count": 43,
      "outputs": []
    },
    {
      "cell_type": "markdown",
      "source": [
        "##5.Tokenizer İşlemleri\n",
        "*###Excel iptal*"
      ],
      "metadata": {
        "id": "c3HCZASxIu00"
      }
    },
    {
      "cell_type": "code",
      "source": [
        "if not os.path.exists(f\"{MODEL_PREFIX}.model\"):\n",
        "    spm.SentencePieceTrainer.train(\n",
        "        input=\"corpus.txt\",\n",
        "        model_prefix=MODEL_PREFIX,\n",
        "        vocab_size=VOCAB_SIZE,\n",
        "        model_type=\"bpe\",\n",
        "        character_coverage=1.0,\n",
        "        pad_id=0, unk_id=1, bos_id=-1, eos_id=2\n",
        "    )\n",
        "\n",
        "sp = spm.SentencePieceProcessor(model_file=f\"{MODEL_PREFIX}.model\")\n",
        "vocab_size = sp.get_piece_size()\n"
      ],
      "metadata": {
        "id": "cFoYR0PqF9WG"
      },
      "execution_count": 44,
      "outputs": []
    },
    {
      "cell_type": "markdown",
      "source": [
        "##6.Modelde kullanmak iççin veriyi diziye dönüştürüyoruz"
      ],
      "metadata": {
        "id": "ZhubxhSVJDvF"
      }
    },
    {
      "cell_type": "code",
      "source": [
        "def encode(sentence):\n",
        "    return sp.encode(sentence.strip(), out_type=int) + [sp.eos_id()]\n",
        "\n",
        "sequences = [encode(l) for l in lines if l.strip()]\n",
        "\n",
        "x_data, y_data = [], []\n",
        "for seq in sequences:\n",
        "    for i in range(1, len(seq)):\n",
        "        chunk = seq[max(0, i-SEQ_LEN):i+1]\n",
        "        x_data.append(chunk[:-1])\n",
        "        y_data.append(chunk[-1])\n",
        "\n",
        "x_data = tf.keras.preprocessing.sequence.pad_sequences(\n",
        "    x_data, maxlen=SEQ_LEN, padding=\"pre\")\n",
        "y_data = np.array(y_data)\n",
        "\n",
        "dataset = tf.data.Dataset.from_tensor_slices((x_data, y_data))\n",
        "dataset = dataset.shuffle(10000).batch(BATCH_SIZE, drop_remainder=True)\n"
      ],
      "metadata": {
        "id": "rsRkh4ZcGPZG"
      },
      "execution_count": 45,
      "outputs": []
    },
    {
      "cell_type": "markdown",
      "source": [
        "##7.Model kurulumu Aktivasyon fonk. Softmax ve Learning rate"
      ],
      "metadata": {
        "id": "e4ZdwaUNKA4a"
      }
    },
    {
      "cell_type": "code",
      "source": [
        "model = tf.keras.Sequential([\n",
        "    tf.keras.layers.Embedding(vocab_size, EMBED_DIM, input_length=SEQ_LEN),\n",
        "    tf.keras.layers.LSTM(LSTM_UNITS),\n",
        "    tf.keras.layers.Dense(vocab_size, activation=\"softmax\")\n",
        "])\n",
        "\n",
        "optimizer = Adam(learning_rate=0.005)\n",
        "model.compile(\n",
        "    optimizer=optimizer,\n",
        "    loss=\"sparse_categorical_crossentropy\"\n",
        ")\n",
        "\n"
      ],
      "metadata": {
        "colab": {
          "base_uri": "https://localhost:8080/"
        },
        "id": "58uLftxjGTui",
        "outputId": "54818cc9-9459-4dcd-9826-b5a3cca7a391"
      },
      "execution_count": 46,
      "outputs": [
        {
          "output_type": "stream",
          "name": "stderr",
          "text": [
            "/usr/local/lib/python3.11/dist-packages/keras/src/layers/core/embedding.py:90: UserWarning: Argument `input_length` is deprecated. Just remove it.\n",
            "  warnings.warn(\n"
          ]
        }
      ]
    },
    {
      "cell_type": "markdown",
      "source": [],
      "metadata": {
        "id": "sM7_E8mvG0M_"
      }
    },
    {
      "cell_type": "markdown",
      "source": [
        "##8.Model fit :)"
      ],
      "metadata": {
        "id": "HkP0_qpcKGiB"
      }
    },
    {
      "cell_type": "code",
      "source": [
        "checkpoint = ModelCheckpoint(\n",
        "    '/content/drive/MyDrive/MRT_SMSK/best_model.keras',\n",
        "    monitor='loss',\n",
        "    save_best_only=True\n",
        ")#loss yükselmeye başlarsa son epochu kaydedecek\n",
        "\n",
        "history = model.fit(\n",
        "    dataset,\n",
        "    epochs=EPOCHS,\n",
        "    callbacks=[es,  checkpoint]\n",
        ")"
      ],
      "metadata": {
        "colab": {
          "base_uri": "https://localhost:8080/"
        },
        "id": "b_v6I3SWGzrQ",
        "outputId": "5138eabd-d1f9-47a0-9e8c-0b3b174b8c91"
      },
      "execution_count": 49,
      "outputs": [
        {
          "output_type": "stream",
          "name": "stdout",
          "text": [
            "Epoch 1/20\n",
            "\u001b[1m6161/6161\u001b[0m \u001b[32m━━━━━━━━━━━━━━━━━━━━\u001b[0m\u001b[37m\u001b[0m \u001b[1m193s\u001b[0m 31ms/step - loss: 8.7677\n",
            "Epoch 2/20\n",
            "\u001b[1m6161/6161\u001b[0m \u001b[32m━━━━━━━━━━━━━━━━━━━━\u001b[0m\u001b[37m\u001b[0m \u001b[1m188s\u001b[0m 31ms/step - loss: 7.0092\n",
            "Epoch 3/20\n",
            "\u001b[1m6161/6161\u001b[0m \u001b[32m━━━━━━━━━━━━━━━━━━━━\u001b[0m\u001b[37m\u001b[0m \u001b[1m188s\u001b[0m 31ms/step - loss: 5.9601\n",
            "Epoch 4/20\n",
            "\u001b[1m6161/6161\u001b[0m \u001b[32m━━━━━━━━━━━━━━━━━━━━\u001b[0m\u001b[37m\u001b[0m \u001b[1m189s\u001b[0m 31ms/step - loss: 5.1801\n",
            "Epoch 5/20\n",
            "\u001b[1m6161/6161\u001b[0m \u001b[32m━━━━━━━━━━━━━━━━━━━━\u001b[0m\u001b[37m\u001b[0m \u001b[1m189s\u001b[0m 31ms/step - loss: 4.9025\n",
            "Epoch 6/20\n",
            "\u001b[1m6161/6161\u001b[0m \u001b[32m━━━━━━━━━━━━━━━━━━━━\u001b[0m\u001b[37m\u001b[0m \u001b[1m188s\u001b[0m 31ms/step - loss: 4.7771\n",
            "Epoch 7/20\n",
            "\u001b[1m6161/6161\u001b[0m \u001b[32m━━━━━━━━━━━━━━━━━━━━\u001b[0m\u001b[37m\u001b[0m \u001b[1m188s\u001b[0m 31ms/step - loss: 4.5569\n",
            "Epoch 8/20\n",
            "\u001b[1m6161/6161\u001b[0m \u001b[32m━━━━━━━━━━━━━━━━━━━━\u001b[0m\u001b[37m\u001b[0m \u001b[1m188s\u001b[0m 31ms/step - loss: 4.3636\n",
            "Epoch 9/20\n",
            "\u001b[1m6161/6161\u001b[0m \u001b[32m━━━━━━━━━━━━━━━━━━━━\u001b[0m\u001b[37m\u001b[0m \u001b[1m188s\u001b[0m 30ms/step - loss: 4.2262\n",
            "Epoch 10/20\n",
            "\u001b[1m6161/6161\u001b[0m \u001b[32m━━━━━━━━━━━━━━━━━━━━\u001b[0m\u001b[37m\u001b[0m \u001b[1m188s\u001b[0m 30ms/step - loss: 4.1187\n",
            "Epoch 11/20\n",
            "\u001b[1m6161/6161\u001b[0m \u001b[32m━━━━━━━━━━━━━━━━━━━━\u001b[0m\u001b[37m\u001b[0m \u001b[1m188s\u001b[0m 30ms/step - loss: 4.0542\n",
            "Epoch 12/20\n",
            "\u001b[1m6161/6161\u001b[0m \u001b[32m━━━━━━━━━━━━━━━━━━━━\u001b[0m\u001b[37m\u001b[0m \u001b[1m188s\u001b[0m 30ms/step - loss: 4.0299\n",
            "Epoch 13/20\n",
            "\u001b[1m6161/6161\u001b[0m \u001b[32m━━━━━━━━━━━━━━━━━━━━\u001b[0m\u001b[37m\u001b[0m \u001b[1m188s\u001b[0m 30ms/step - loss: 3.9915\n",
            "Epoch 14/20\n",
            "\u001b[1m6161/6161\u001b[0m \u001b[32m━━━━━━━━━━━━━━━━━━━━\u001b[0m\u001b[37m\u001b[0m \u001b[1m188s\u001b[0m 30ms/step - loss: 3.9737\n",
            "Epoch 15/20\n",
            "\u001b[1m6161/6161\u001b[0m \u001b[32m━━━━━━━━━━━━━━━━━━━━\u001b[0m\u001b[37m\u001b[0m \u001b[1m187s\u001b[0m 30ms/step - loss: 4.3603\n",
            "Epoch 16/20\n",
            "\u001b[1m6161/6161\u001b[0m \u001b[32m━━━━━━━━━━━━━━━━━━━━\u001b[0m\u001b[37m\u001b[0m \u001b[1m186s\u001b[0m 30ms/step - loss: 4.0520\n",
            "Epoch 17/20\n",
            "\u001b[1m6161/6161\u001b[0m \u001b[32m━━━━━━━━━━━━━━━━━━━━\u001b[0m\u001b[37m\u001b[0m \u001b[1m187s\u001b[0m 30ms/step - loss: 3.7120\n",
            "Epoch 18/20\n",
            "\u001b[1m6161/6161\u001b[0m \u001b[32m━━━━━━━━━━━━━━━━━━━━\u001b[0m\u001b[37m\u001b[0m \u001b[1m188s\u001b[0m 30ms/step - loss: 3.5294\n",
            "Epoch 19/20\n",
            "\u001b[1m6161/6161\u001b[0m \u001b[32m━━━━━━━━━━━━━━━━━━━━\u001b[0m\u001b[37m\u001b[0m \u001b[1m187s\u001b[0m 30ms/step - loss: 3.4223\n",
            "Epoch 20/20\n",
            "\u001b[1m6161/6161\u001b[0m \u001b[32m━━━━━━━━━━━━━━━━━━━━\u001b[0m\u001b[37m\u001b[0m \u001b[1m188s\u001b[0m 30ms/step - loss: 3.3674\n"
          ]
        }
      ]
    },
    {
      "cell_type": "code",
      "source": [
        "history_df = pd.DataFrame(history.history)"
      ],
      "metadata": {
        "id": "DaHyruEg4VFk"
      },
      "execution_count": 51,
      "outputs": []
    },
    {
      "cell_type": "code",
      "source": [
        "fig = plt.figure(figsize=(15,4), facecolor=\"#B291B6\")\n",
        "fig.suptitle(\"Learning Plot of Model for Loss\")\n",
        "pl = sns.lineplot(data=history_df[\"loss\"], color=\"#444160\")\n",
        "pl.set(ylabel=\"Training Loss\", xlabel=\"Epoch\")\n",
        "plt.show()"
      ],
      "metadata": {
        "colab": {
          "base_uri": "https://localhost:8080/",
          "height": 428
        },
        "id": "qC0_ranb8Nde",
        "outputId": "bf1ad2ae-075b-4f87-9281-0aee3fff5b10"
      },
      "execution_count": 52,
      "outputs": [
        {
          "output_type": "display_data",
          "data": {
            "text/plain": [
              "<Figure size 1500x400 with 1 Axes>"
            ],
            "image/png": "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\n"
          },
          "metadata": {}
        }
      ]
    },
    {
      "cell_type": "markdown",
      "source": [
        "##9 Örnekleme Aşaması (NUCLEUS (TOP-p)) kullanıldı."
      ],
      "metadata": {
        "id": "6CctXGGlKKof"
      }
    },
    {
      "cell_type": "code",
      "source": [
        "def sample_top_p(preds, temperature=0.8, top_p=0.9):\n",
        "    preds = np.asarray(preds).astype(\"float64\")\n",
        "    preds = np.log(preds + 1e-8) / temperature\n",
        "    probs = np.exp(preds)\n",
        "    probs = probs / np.sum(probs)\n",
        "    sorted_idx = np.argsort(probs)[::-1]\n",
        "    cumulative = np.cumsum(probs[sorted_idx])\n",
        "    keep = cumulative <= top_p\n",
        "    idxs = sorted_idx[keep]\n",
        "    if len(idxs) == 0:\n",
        "        idxs = sorted_idx[:1]\n",
        "    probs = probs[idxs] / probs[idxs].sum()\n",
        "    return np.random.choice(idxs, p=probs)\n",
        "\n",
        "def generate(seed_text, max_tokens=120, temperature=0.8, top_p=0.9):\n",
        "    ids = sp.encode(seed_text, out_type=int)\n",
        "    for _ in range(max_tokens):\n",
        "        padded = tf.keras.preprocessing.sequence.pad_sequences(\n",
        "            [ids], maxlen=SEQ_LEN, padding=\"pre\")\n",
        "        preds = model.predict(padded, verbose=0)[0]\n",
        "        next_id = sample_top_p(preds, temperature, top_p)\n",
        "        if next_id == sp.eos_id():\n",
        "            break\n",
        "        ids.append(int(next_id))\n",
        "    return sp.decode(ids)\n"
      ],
      "metadata": {
        "id": "lStTyc6wGXV5"
      },
      "execution_count": 53,
      "outputs": []
    },
    {
      "cell_type": "markdown",
      "source": [
        "##9.Örnek üretimi **Proje GenAi kısmı sonu**\n",
        "*### Resim üstü yazı olması için ve sonrasında arayüz için devam->17.04.2025*"
      ],
      "metadata": {
        "id": "ILcmMA0GKUKi"
      }
    },
    {
      "cell_type": "code",
      "source": [
        "print(\"---- ÖRNEK ÇIKIŞ ----\")\n",
        "print(generate(\"sevdik sevdalandık\", max_tokens=120, temperature=0.5, top_p=0.95))\n",
        "#Başlangıç parametrelerimiz çıktı kalitesi idare eder max_tokens=120, temperature=0.8, top_p=0.9))"
      ],
      "metadata": {
        "colab": {
          "base_uri": "https://localhost:8080/"
        },
        "id": "up6cWF9zGZ51",
        "outputId": "b2e1c024-06be-4887-f27b-97d5180ebd4a"
      },
      "execution_count": 65,
      "outputs": [
        {
          "output_type": "stream",
          "name": "stdout",
          "text": [
            "---- ÖRNEK ÇIKIŞ ----\n",
            "sevdik sevdalandık Bir kez kaybetip Söndü derler Aşkı bekleme Giden böyle insafsız böyle unutulsam maziden sardun canıma sarkantu kaybolanyalarince sessiz Geceyi çoktan unuttum kendimi Sende gördün diye Beklerim yolunu aylar boyunca korumak var aldırma\n"
          ]
        }
      ]
    },
   
