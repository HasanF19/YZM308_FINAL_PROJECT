{
  "nbformat": 4,
  "nbformat_minor": 0,
  "metadata": {
    "colab": {
      "provenance": [],
      "machine_shape": "hm",
      "gpuType": "A100",
      "include_colab_link": true
    },
    "kernelspec": {
      "name": "python3",
      "display_name": "Python 3"
    },
    "language_info": {
      "name": "python"
    },
    "accelerator": "GPU"
  },
  "cells": [
    {
      "cell_type": "markdown",
      "metadata": {
        "id": "view-in-github",
        "colab_type": "text"
      },
      "source": [
        "<a href=\"https://colab.research.google.com/github/HasanF19/YZM308_FINAL_PROJECT/blob/main/v1.ipynb\" target=\"_parent\"><img src=\"https://colab.research.google.com/assets/colab-badge.svg\" alt=\"Open In Colab\"/></a>"
      ]
    },
    {
      "cell_type": "markdown",
      "source": [
        "Hasan ***Atakan*** Öztürk 220212002\n",
        "\n",
        "Üretken Yapay Zeka YZM308 Final Projesi Türkçe şarkı sözü Üretimi\n"
      ],
      "metadata": {
        "id": "TmdfvVW9G5O8"
      }
    },
    {
      "cell_type": "markdown",
      "source": [
        "#Proje Temeli GenAi kısmı"
      ],
      "metadata": {
        "id": "P499Tr9L3p_w"
      }
    },
    {
      "cell_type": "markdown",
      "source": [
        "##1)Kurulum ve import"
      ],
      "metadata": {
        "id": "bI0yaAu4H5LJ"
      }
    },
    {
      "cell_type": "code",
      "source": [
        "!pip install --quiet sentencepiece tensorflow pandas openpyxl\n"
      ],
      "metadata": {
        "id": "Ot1juXobG3DU"
      },
      "execution_count": 8,
      "outputs": []
    },
    {
      "cell_type": "code",
      "source": [
        "import pandas as pd, sentencepiece as spm, tensorflow as tf, numpy as np, os, io, textwrap\n",
        "import matplotlib.pyplot as plt\n",
        "import seaborn as sns\n",
        "from tensorflow.keras.callbacks import EarlyStopping, ModelCheckpoint\n",
        "from tensorflow.keras.optimizers import Adam\n",
        "from tensorflow.keras.models import load_model\n",
        "from tensorflow.keras.layers import Embedding, LSTM, Dense, Dropout, TimeDistributed\n",
        "from tensorflow.keras.models import Sequential\n",
        "from IPython.display import Image as ColabImage, display\n",
        "from PIL import Image, ImageDraw, ImageFont"
      ],
      "metadata": {
        "id": "CKrF7WldDq9Y"
      },
      "execution_count": 9,
      "outputs": []
    },
    {
      "cell_type": "markdown",
      "source": [
        "##2)Dataset Tanıtım"
      ],
      "metadata": {
        "id": "xWjtsEcKH8gW"
      }
    },
    {
      "cell_type": "code",
      "source": [
        "#Öncelikle sizlere datasetimi tanıtmak istiyorum csv formatındaki bu dosyanın düzenlenmiş hali kullanılmaktadır\n",
        "# *yüklüyoruz*\n",
        "data = pd.read_csv(\"/content/drive/MyDrive/Python/son_hali_artik.csv\")\n",
        "data.head()"
      ],
      "metadata": {
        "colab": {
          "base_uri": "https://localhost:8080/",
          "height": 206
        },
        "id": "uSnP6hH8E-un",
        "outputId": "3ceca1ea-8922-46aa-b05f-7df0216d410f"
      },
      "execution_count": 10,
      "outputs": [
        {
          "output_type": "execute_result",
          "data": {
            "text/plain": [
              "      sarkici                                          sarkisi  \\\n",
              "0  Ahmet Kaya  (Potbori) Fabrika Kızı, Cama Çıkma, Fabrika Önü   \n",
              "1  Ahmet Kaya                                        Acı Ninni   \n",
              "2  Ahmet Kaya                                 Acılara Tutunmak   \n",
              "3  Ahmet Kaya                                    Ada Sahilleri   \n",
              "4  Ahmet Kaya                                     Adı Bahtiyar   \n",
              "\n",
              "                 album                                             sozler  \n",
              "0        Şafak Türküsü  Bir mavi otobüs gelirdi\\nSeni alır giderdi\\nO ...  \n",
              "1     Baş Kaldırıyorum  Uyusun ha iyi büyüsün,\\nCamlar buğulanmasın\\nS...  \n",
              "2     Acılara Tutunmak  Kavuşmak özgürlükse özgürdük ikimiz de\\nElleri...  \n",
              "3     Hoşçakalın Gözüm  Ada sahillerinde bekliyorum\\nHer zaman yolları...  \n",
              "4  Dinle Sevgili Ülkem  Geçiyor önümden, sirenler içinde\\nAh eller üst...  "
            ],
            "text/html": [
              "\n",
              "  <div id=\"df-c01bb583-211d-401a-9236-c2474d120565\" class=\"colab-df-container\">\n",
              "    <div>\n",
              "<style scoped>\n",
              "    .dataframe tbody tr th:only-of-type {\n",
              "        vertical-align: middle;\n",
              "    }\n",
              "\n",
              "    .dataframe tbody tr th {\n",
              "        vertical-align: top;\n",
              "    }\n",
              "\n",
              "    .dataframe thead th {\n",
              "        text-align: right;\n",
              "    }\n",
              "</style>\n",
              "<table border=\"1\" class=\"dataframe\">\n",
              "  <thead>\n",
              "    <tr style=\"text-align: right;\">\n",
              "      <th></th>\n",
              "      <th>sarkici</th>\n",
              "      <th>sarkisi</th>\n",
              "      <th>album</th>\n",
              "      <th>sozler</th>\n",
              "    </tr>\n",
              "  </thead>\n",
              "  <tbody>\n",
              "    <tr>\n",
              "      <th>0</th>\n",
              "      <td>Ahmet Kaya</td>\n",
              "      <td>(Potbori) Fabrika Kızı, Cama Çıkma, Fabrika Önü</td>\n",
              "      <td>Şafak Türküsü</td>\n",
              "      <td>Bir mavi otobüs gelirdi\\nSeni alır giderdi\\nO ...</td>\n",
              "    </tr>\n",
              "    <tr>\n",
              "      <th>1</th>\n",
              "      <td>Ahmet Kaya</td>\n",
              "      <td>Acı Ninni</td>\n",
              "      <td>Baş Kaldırıyorum</td>\n",
              "      <td>Uyusun ha iyi büyüsün,\\nCamlar buğulanmasın\\nS...</td>\n",
              "    </tr>\n",
              "    <tr>\n",
              "      <th>2</th>\n",
              "      <td>Ahmet Kaya</td>\n",
              "      <td>Acılara Tutunmak</td>\n",
              "      <td>Acılara Tutunmak</td>\n",
              "      <td>Kavuşmak özgürlükse özgürdük ikimiz de\\nElleri...</td>\n",
              "    </tr>\n",
              "    <tr>\n",
              "      <th>3</th>\n",
              "      <td>Ahmet Kaya</td>\n",
              "      <td>Ada Sahilleri</td>\n",
              "      <td>Hoşçakalın Gözüm</td>\n",
              "      <td>Ada sahillerinde bekliyorum\\nHer zaman yolları...</td>\n",
              "    </tr>\n",
              "    <tr>\n",
              "      <th>4</th>\n",
              "      <td>Ahmet Kaya</td>\n",
              "      <td>Adı Bahtiyar</td>\n",
              "      <td>Dinle Sevgili Ülkem</td>\n",
              "      <td>Geçiyor önümden, sirenler içinde\\nAh eller üst...</td>\n",
              "    </tr>\n",
              "  </tbody>\n",
              "</table>\n",
              "</div>\n",
              "    <div class=\"colab-df-buttons\">\n",
              "\n",
              "  <div class=\"colab-df-container\">\n",
              "    <button class=\"colab-df-convert\" onclick=\"convertToInteractive('df-c01bb583-211d-401a-9236-c2474d120565')\"\n",
              "            title=\"Convert this dataframe to an interactive table.\"\n",
              "            style=\"display:none;\">\n",
              "\n",
              "  <svg xmlns=\"http://www.w3.org/2000/svg\" height=\"24px\" viewBox=\"0 -960 960 960\">\n",
              "    <path d=\"M120-120v-720h720v720H120Zm60-500h600v-160H180v160Zm220 220h160v-160H400v160Zm0 220h160v-160H400v160ZM180-400h160v-160H180v160Zm440 0h160v-160H620v160ZM180-180h160v-160H180v160Zm440 0h160v-160H620v160Z\"/>\n",
              "  </svg>\n",
              "    </button>\n",
              "\n",
              "  <style>\n",
              "    .colab-df-container {\n",
              "      display:flex;\n",
              "      gap: 12px;\n",
              "    }\n",
              "\n",
              "    .colab-df-convert {\n",
              "      background-color: #E8F0FE;\n",
              "      border: none;\n",
              "      border-radius: 50%;\n",
              "      cursor: pointer;\n",
              "      display: none;\n",
              "      fill: #1967D2;\n",
              "      height: 32px;\n",
              "      padding: 0 0 0 0;\n",
              "      width: 32px;\n",
              "    }\n",
              "\n",
              "    .colab-df-convert:hover {\n",
              "      background-color: #E2EBFA;\n",
              "      box-shadow: 0px 1px 2px rgba(60, 64, 67, 0.3), 0px 1px 3px 1px rgba(60, 64, 67, 0.15);\n",
              "      fill: #174EA6;\n",
              "    }\n",
              "\n",
              "    .colab-df-buttons div {\n",
              "      margin-bottom: 4px;\n",
              "    }\n",
              "\n",
              "    [theme=dark] .colab-df-convert {\n",
              "      background-color: #3B4455;\n",
              "      fill: #D2E3FC;\n",
              "    }\n",
              "\n",
              "    [theme=dark] .colab-df-convert:hover {\n",
              "      background-color: #434B5C;\n",
              "      box-shadow: 0px 1px 3px 1px rgba(0, 0, 0, 0.15);\n",
              "      filter: drop-shadow(0px 1px 2px rgba(0, 0, 0, 0.3));\n",
              "      fill: #FFFFFF;\n",
              "    }\n",
              "  </style>\n",
              "\n",
              "    <script>\n",
              "      const buttonEl =\n",
              "        document.querySelector('#df-c01bb583-211d-401a-9236-c2474d120565 button.colab-df-convert');\n",
              "      buttonEl.style.display =\n",
              "        google.colab.kernel.accessAllowed ? 'block' : 'none';\n",
              "\n",
              "      async function convertToInteractive(key) {\n",
              "        const element = document.querySelector('#df-c01bb583-211d-401a-9236-c2474d120565');\n",
              "        const dataTable =\n",
              "          await google.colab.kernel.invokeFunction('convertToInteractive',\n",
              "                                                    [key], {});\n",
              "        if (!dataTable) return;\n",
              "\n",
              "        const docLinkHtml = 'Like what you see? Visit the ' +\n",
              "          '<a target=\"_blank\" href=https://colab.research.google.com/notebooks/data_table.ipynb>data table notebook</a>'\n",
              "          + ' to learn more about interactive tables.';\n",
              "        element.innerHTML = '';\n",
              "        dataTable['output_type'] = 'display_data';\n",
              "        await google.colab.output.renderOutput(dataTable, element);\n",
              "        const docLink = document.createElement('div');\n",
              "        docLink.innerHTML = docLinkHtml;\n",
              "        element.appendChild(docLink);\n",
              "      }\n",
              "    </script>\n",
              "  </div>\n",
              "\n",
              "\n",
              "    <div id=\"df-c7ebfe4e-c743-406f-bf5c-96b87090258a\">\n",
              "      <button class=\"colab-df-quickchart\" onclick=\"quickchart('df-c7ebfe4e-c743-406f-bf5c-96b87090258a')\"\n",
              "                title=\"Suggest charts\"\n",
              "                style=\"display:none;\">\n",
              "\n",
              "<svg xmlns=\"http://www.w3.org/2000/svg\" height=\"24px\"viewBox=\"0 0 24 24\"\n",
              "     width=\"24px\">\n",
              "    <g>\n",
              "        <path d=\"M19 3H5c-1.1 0-2 .9-2 2v14c0 1.1.9 2 2 2h14c1.1 0 2-.9 2-2V5c0-1.1-.9-2-2-2zM9 17H7v-7h2v7zm4 0h-2V7h2v10zm4 0h-2v-4h2v4z\"/>\n",
              "    </g>\n",
              "</svg>\n",
              "      </button>\n",
              "\n",
              "<style>\n",
              "  .colab-df-quickchart {\n",
              "      --bg-color: #E8F0FE;\n",
              "      --fill-color: #1967D2;\n",
              "      --hover-bg-color: #E2EBFA;\n",
              "      --hover-fill-color: #174EA6;\n",
              "      --disabled-fill-color: #AAA;\n",
              "      --disabled-bg-color: #DDD;\n",
              "  }\n",
              "\n",
              "  [theme=dark] .colab-df-quickchart {\n",
              "      --bg-color: #3B4455;\n",
              "      --fill-color: #D2E3FC;\n",
              "      --hover-bg-color: #434B5C;\n",
              "      --hover-fill-color: #FFFFFF;\n",
              "      --disabled-bg-color: #3B4455;\n",
              "      --disabled-fill-color: #666;\n",
              "  }\n",
              "\n",
              "  .colab-df-quickchart {\n",
              "    background-color: var(--bg-color);\n",
              "    border: none;\n",
              "    border-radius: 50%;\n",
              "    cursor: pointer;\n",
              "    display: none;\n",
              "    fill: var(--fill-color);\n",
              "    height: 32px;\n",
              "    padding: 0;\n",
              "    width: 32px;\n",
              "  }\n",
              "\n",
              "  .colab-df-quickchart:hover {\n",
              "    background-color: var(--hover-bg-color);\n",
              "    box-shadow: 0 1px 2px rgba(60, 64, 67, 0.3), 0 1px 3px 1px rgba(60, 64, 67, 0.15);\n",
              "    fill: var(--button-hover-fill-color);\n",
              "  }\n",
              "\n",
              "  .colab-df-quickchart-complete:disabled,\n",
              "  .colab-df-quickchart-complete:disabled:hover {\n",
              "    background-color: var(--disabled-bg-color);\n",
              "    fill: var(--disabled-fill-color);\n",
              "    box-shadow: none;\n",
              "  }\n",
              "\n",
              "  .colab-df-spinner {\n",
              "    border: 2px solid var(--fill-color);\n",
              "    border-color: transparent;\n",
              "    border-bottom-color: var(--fill-color);\n",
              "    animation:\n",
              "      spin 1s steps(1) infinite;\n",
              "  }\n",
              "\n",
              "  @keyframes spin {\n",
              "    0% {\n",
              "      border-color: transparent;\n",
              "      border-bottom-color: var(--fill-color);\n",
              "      border-left-color: var(--fill-color);\n",
              "    }\n",
              "    20% {\n",
              "      border-color: transparent;\n",
              "      border-left-color: var(--fill-color);\n",
              "      border-top-color: var(--fill-color);\n",
              "    }\n",
              "    30% {\n",
              "      border-color: transparent;\n",
              "      border-left-color: var(--fill-color);\n",
              "      border-top-color: var(--fill-color);\n",
              "      border-right-color: var(--fill-color);\n",
              "    }\n",
              "    40% {\n",
              "      border-color: transparent;\n",
              "      border-right-color: var(--fill-color);\n",
              "      border-top-color: var(--fill-color);\n",
              "    }\n",
              "    60% {\n",
              "      border-color: transparent;\n",
              "      border-right-color: var(--fill-color);\n",
              "    }\n",
              "    80% {\n",
              "      border-color: transparent;\n",
              "      border-right-color: var(--fill-color);\n",
              "      border-bottom-color: var(--fill-color);\n",
              "    }\n",
              "    90% {\n",
              "      border-color: transparent;\n",
              "      border-bottom-color: var(--fill-color);\n",
              "    }\n",
              "  }\n",
              "</style>\n",
              "\n",
              "      <script>\n",
              "        async function quickchart(key) {\n",
              "          const quickchartButtonEl =\n",
              "            document.querySelector('#' + key + ' button');\n",
              "          quickchartButtonEl.disabled = true;  // To prevent multiple clicks.\n",
              "          quickchartButtonEl.classList.add('colab-df-spinner');\n",
              "          try {\n",
              "            const charts = await google.colab.kernel.invokeFunction(\n",
              "                'suggestCharts', [key], {});\n",
              "          } catch (error) {\n",
              "            console.error('Error during call to suggestCharts:', error);\n",
              "          }\n",
              "          quickchartButtonEl.classList.remove('colab-df-spinner');\n",
              "          quickchartButtonEl.classList.add('colab-df-quickchart-complete');\n",
              "        }\n",
              "        (() => {\n",
              "          let quickchartButtonEl =\n",
              "            document.querySelector('#df-c7ebfe4e-c743-406f-bf5c-96b87090258a button');\n",
              "          quickchartButtonEl.style.display =\n",
              "            google.colab.kernel.accessAllowed ? 'block' : 'none';\n",
              "        })();\n",
              "      </script>\n",
              "    </div>\n",
              "\n",
              "    </div>\n",
              "  </div>\n"
            ],
            "application/vnd.google.colaboratory.intrinsic+json": {
              "type": "dataframe",
              "variable_name": "data",
              "summary": "{\n  \"name\": \"data\",\n  \"rows\": 4975,\n  \"fields\": [\n    {\n      \"column\": \"sarkici\",\n      \"properties\": {\n        \"dtype\": \"category\",\n        \"num_unique_values\": 31,\n        \"samples\": [\n          \"Yeni T\\u00fcrk\\u00fc\",\n          \"Mustafa Sandal\",\n          \"Sezen Aksu\"\n        ],\n        \"semantic_type\": \"\",\n        \"description\": \"\"\n      }\n    },\n    {\n      \"column\": \"sarkisi\",\n      \"properties\": {\n        \"dtype\": \"string\",\n        \"num_unique_values\": 4613,\n        \"samples\": [\n          \"Belki Al\\u0131\\u015fman Laz\\u0131m\",\n          \"Kopya Kalpler\",\n          \"\\u0130lk De\\u011fil\"\n        ],\n        \"semantic_type\": \"\",\n        \"description\": \"\"\n      }\n    },\n    {\n      \"column\": \"album\",\n      \"properties\": {\n        \"dtype\": \"category\",\n        \"num_unique_values\": 669,\n        \"samples\": [\n          \"Hasret R\\u00fczgarlar\\u0131\",\n          \"M\\u00fcptezhel\",\n          \"Turuncu\"\n        ],\n        \"semantic_type\": \"\",\n        \"description\": \"\"\n      }\n    },\n    {\n      \"column\": \"sozler\",\n      \"properties\": {\n        \"dtype\": \"string\",\n        \"num_unique_values\": 4940,\n        \"samples\": [\n          \"Hayalle ya\\u015farken ger\\u00e7ek d\\u00fcnyada\\nZaman\\u0131 i\\u00e7mi\\u015fiz haberimiz yok\\n\\u00d6m\\u00fcrle y\\u00fcz y\\u00fcze geldik aynada \\nHarcan\\u0131p gitmi\\u015fiz haberimiz yok\\nK\\u00f6t\\u00fc bir s\\u00f6z gibi d\\u00fc\\u015ft\\u00fck dillere\\nYaln\\u0131\\u015f yol se\\u00e7mi\\u015fiz haberimiz yok\\n\\u00dcmitle ba\\u011flan\\u0131p ac\\u0131 g\\u00fcnlere\\nG\\u00f6z ya\\u015f\\u0131 ekmi\\u015fiz haberimiz yok\\nG\\u00f6z ya\\u015f\\u0131 ekmi\\u015fiz haberimiz yok\\nHayalle ya\\u015farken ger\\u00e7ek d\\u00fcnyada\\nZaman\\u0131 i\\u00e7mi\\u015fiz haberimiz yok\\n\\u00d6m\\u00fcrle y\\u00fcz y\\u00fcze geldik aynada \\nHarcan\\u0131p gitmi\\u015fiz haberimiz yok\\nBo\\u015f yere ko\\u015farken hayat yolunda\\nNe dertler \\u00e7ekmi\\u015fiz bilenimiz yok G\\u00f6zlerden d\\u00f6k\\u00fclen g\\u00f6zya\\u015flar\\u0131nda\\nEriyip gitmi\\u015fiz haberimiz yok\\nK\\u00f6t\\u00fc bir s\\u00f6z gibi d\\u00fc\\u015ft\\u00fck dillere\\nYaln\\u0131\\u015f yol se\\u00e7mi\\u015fiz haberimiz yok\\n\\u00dcmitle ba\\u011flan\\u0131p ac\\u0131 g\\u00fcnlere\\nG\\u00f6z ya\\u015f\\u0131 d\\u00f6km\\u00fc\\u015f\\u00fcz haberimiz yok\\nG\\u00f6zya\\u015f\\u0131 d\\u00f6km\\u00fc\\u015f\\u00fcz haberimiz yok\\nHayalle ya\\u015farken ger\\u00e7ek d\\u00fcnyada\\nZaman\\u0131 i\\u00e7mi\\u015fiz haberimiz yok\\n\\u00d6m\\u00fcrle y\\u00fcz y\\u00fcze geldik aynada \\nHarcan\\u0131p gitmi\\u015fiz haberimiz yok\\nHarcan\\u0131p gitmi\\u015fiz haberimiz yok\\nEriyip bitme\\u015fiz haberimiz yok\\nT\\u00fckenip gitmi\\u015fiz haberimiz yok\",\n          \"Bu bir yalan bu bir ceza\\nBu bir talan g\\u00f6nl\\u00fcm bu bir veda\\nNe bir tav\\u0131r ne bir eda\\nTutup savur g\\u00f6nl\\u00fcm bu son elveda\\nHat\\u0131rlar\\u0131m hi\\u00e7 gidemem deyi\\u015fini\\nHat\\u0131rlar\\u0131m erken \\u00f6l\\u00fcr\\u00fcm deyi\\u015fini\\nAldan\\u0131r\\u0131m ben zaten g\\u00fcl\\u00fc\\u015f\\u00fcne ahh g\\u00fcl\\u00fc\\u015f\\u00fcne\\nAldan\\u0131r\\u0131m g\\u00fcl\\u00fc\\u015f\\u00fcne\\nBu bir yalan bu bir ceza\\nBu bir talan g\\u00f6nl\\u00fcm bu\\nBu son elveda a\\u015fk de\\u011fil keza\\nNe bir tav\\u0131r ne bir eda\\nSavur savrul g\\u00f6nl\\u00fcm bu bu son elveda Aldan\\u0131r\\u0131m ben sana\\nBu her mevsim s\\u00f6yler misin\\nMecbur eden buna yar sen misin\\nSoran beni yar\\u0131m bulur\\nSen bir tek g\\u00fcl ey yar tamam olur\\nHat\\u0131rlar\\u0131m hi\\u00e7 gidemem deyi\\u015fini\\nHat\\u0131rlar\\u0131m erken \\u00f6l\\u00fcr\\u00fcm deyi\\u015fini\\nAldan\\u0131r\\u0131m ben zaten g\\u00fcl\\u00fc\\u015f\\u00fcne ahh g\\u00fcl\\u00fc\\u015f\\u00fcne\\nAldan\\u0131r\\u0131m g\\u00fcl\\u00fc\\u015f\\u00fcne\\nBu bir yalan bu bir ceza\\nSavur savrul g\\u00f6nl\\u00fcm bu bu son elveda\\nAldan\\u0131r\\u0131m ben sana\",\n          \"Yar\\u0131n yine yapraklar can\\u0131m oy\\nYar\\u0131n yine ya\\u011fmurlar can\\u0131m oy\\nArd\\u0131ndan yine so\\u011fuk\\nArd\\u0131ndan yine tipi\\nYine palto yine gocuk\\nYine odun yine k\\u00f6m\\u00fcr\\nYine s\\u00f6vg\\u00fc karak\\u0131\\u015fa\\nYine bahara selam\\nEderler yine tombul can\\u0131m oy\\nGelirler yine c\\u0131l\\u0131z can\\u0131m oy\\nKiralar yine azg\\u0131n\\nKuyruklar yine dilsiz Yine m\\u0131zm\\u0131z s\\u0131k\\u0131nt\\u0131\\nYine hep v\\u0131d\\u0131 v\\u0131d\\u0131\\nYine hep televizyon\\nYine hep Ortado\\u011fu\\nUykular da beter yine can\\u0131m oy\\nUykular da kara kuru can\\u0131m oy\\nYine bezgin sabahlar\\nYine y\\u0131lg\\u0131n ak\\u015famlar\\nYine hep dalavere\\nYine hep o kuruntu\\nYine umut yine d\\u00fc\\u015f\\nYine hep beklero\\u011flu\"\n        ],\n        \"semantic_type\": \"\",\n        \"description\": \"\"\n      }\n    }\n  ]\n}"
            }
          },
          "metadata": {},
          "execution_count": 10
        }
      ]
    },
    {
      "cell_type": "code",
      "source": [
        "from google.colab import drive\n",
        "drive.mount('/content/drive')"
      ],
      "metadata": {
        "id": "eI25AV_XgxGm",
        "colab": {
          "base_uri": "https://localhost:8080/"
        },
        "outputId": "5dc1cb90-254e-48fd-c66d-92ab5a632632"
      },
      "execution_count": 11,
      "outputs": [
        {
          "output_type": "stream",
          "name": "stdout",
          "text": [
            "Drive already mounted at /content/drive; to attempt to forcibly remount, call drive.mount(\"/content/drive\", force_remount=True).\n"
          ]
        }
      ]
    },
    {
      "cell_type": "code",
      "source": [
        "print(\"Şarkıcı listesi---->Şarkı sayısı:\\n\",data.sarkici.value_counts())\n",
        "print(\"Dataset boyutu:\",data.shape)"
      ],
      "metadata": {
        "id": "nxhcmOzhFR8j",
        "colab": {
          "base_uri": "https://localhost:8080/"
        },
        "outputId": "a5cc0bbd-b1ea-46a4-9e55-1b1a2b064580"
      },
      "execution_count": 12,
      "outputs": [
        {
          "output_type": "stream",
          "name": "stdout",
          "text": [
            "Şarkıcı listesi---->Şarkı sayısı:\n",
            " sarkici\n",
            "Zeki Müren                 500\n",
            "Müslüm Gürses              432\n",
            "Sezen Aksu                 357\n",
            "Sagopa Kajmer              321\n",
            "Orhan Gencebay             295\n",
            "Serdar Ortaç               243\n",
            "Ahmet Kaya                 224\n",
            "Ceza                       211\n",
            "Barış Manço                157\n",
            "Sertab Erener              156\n",
            "Zülfü Livaneli             148\n",
            "Cem Adrian                 140\n",
            "Tarkan                     138\n",
            "Candan Erçetin             137\n",
            "Cem Karaca                 136\n",
            "Kayahan                    124\n",
            "Mustafa Sandal             120\n",
            "Nazan Öncel                120\n",
            "Feridun Düzağaç            107\n",
            "Yaşar                      106\n",
            "Mazhar Fuat Özkan (MFÖ)     99\n",
            "Şebnem Ferah                97\n",
            "Mor Ve Ötesi                97\n",
            "Yeni Türkü                  95\n",
            "Teoman                      85\n",
            "Duman                       84\n",
            "Mabel Matiz                 72\n",
            "Pinhani                     68\n",
            "Can Bonomo                  60\n",
            "Ezhel                       23\n",
            "Büyük Ev Ablukada           23\n",
            "Name: count, dtype: int64\n",
            "Dataset boyutu: (4975, 4)\n"
          ]
        }
      ]
    },
    {
      "cell_type": "markdown",
      "source": [
        "##3) Dosya okuma ve epoch seçimi temel gövde\n",
        "*###Seçilen epochlar 9.Aşamada kullanılacak*"
      ],
      "metadata": {
        "id": "ynLyC5EhIC-P"
      }
    },
    {
      "cell_type": "code",
      "execution_count": 13,
      "metadata": {
        "id": "KLf4EUoDC4ot"
      },
      "outputs": [],
      "source": [
        "EXCEL_FILE  = \"/content/drive/MyDrive/Python/turkish.xlsx\"     # yüklediğiniz dosya adı\n",
        "TEXT_COLUMN = \"lyrics\"# sözlerin bulunduğu sütun\n",
        "MODEL_PREFIX = \"tr_lyric\" # tokenizer dosya adı\n",
        "VOCAB_SIZE   = 16000# BPE sözlük boyutu\n",
        "SEQ_LEN      = 256# giriş uzunluğu (token)\n",
        "EMBED_DIM    = 128\n",
        "LSTM_UNITS   = 1024\n",
        "BATCH_SIZE   = 128\n",
        "EPOCHS       = 10\n",
        "#3 epoch ile başladık A100 ile ort 10dk model.fit 9.aşamada\n",
        "#20 epoch batchi de 128 yaptık ortalama 20dk sürecek\n",
        "#SEQ_LEN= 256 EMBED_DIM= 512 LSTM_UNITS=1024 BATCH_SIZE=128 40 EPOCHS KOD PATLADI\n",
        "#EPOCH 20 BATCH 128 YAPTIK ÇIKTI İYİ LOSS 4 ALTINA DÜŞMEDİ"
      ]
    },
    {
      "cell_type": "markdown",
      "source": [
        "##4) Veri işleme adım 1 txt çevirme\n",
        "*### excel işleri karıştırdı veriyi işlemek için txt çektik (sonradan öğrendim utf-8 hatasıymış)*\n"
      ],
      "metadata": {
        "id": "QehE-8PJIUzf"
      }
    },
    {
      "cell_type": "code",
      "source": [
        "df = pd.read_excel(EXCEL_FILE)\n",
        "lines = df[TEXT_COLUMN].dropna().astype(str).tolist()\n",
        "\n",
        "with open(\"corpus.txt\", \"w\", encoding=\"utf-8\") as f:\n",
        "    for l in lines:\n",
        "        # her satırı tek bir örnek; varsa satır sonlarında aşağı inecek(olmadı)\n",
        "        f.write(l.replace(\"\\r\", \"\") + \"\\n\")\n"
      ],
      "metadata": {
        "id": "RMa8lGnJEdF0"
      },
      "execution_count": 14,
      "outputs": []
    },
    {
      "cell_type": "markdown",
      "source": [
        "##5) Tokenizer İşlemleri\n",
        "*###Excel iptal*"
      ],
      "metadata": {
        "id": "c3HCZASxIu00"
      }
    },
    {
      "cell_type": "code",
      "source": [
        "if not os.path.exists(f\"{MODEL_PREFIX}.model\"):\n",
        "    spm.SentencePieceTrainer.train(\n",
        "        input=\"corpus.txt\",\n",
        "        model_prefix=MODEL_PREFIX,\n",
        "        vocab_size=VOCAB_SIZE,\n",
        "        model_type=\"bpe\",\n",
        "        character_coverage=1.0,\n",
        "        pad_id=0, unk_id=1, bos_id=-1, eos_id=2\n",
        "    )\n",
        "\n",
        "sp = spm.SentencePieceProcessor(model_file=f\"{MODEL_PREFIX}.model\")\n",
        "vocab_size = sp.get_piece_size()\n"
      ],
      "metadata": {
        "id": "cFoYR0PqF9WG"
      },
      "execution_count": 15,
      "outputs": []
    },
    {
      "cell_type": "markdown",
      "source": [
        "##6) Modelde kullanmak için veriyi diziye dönüştürüyoruz"
      ],
      "metadata": {
        "id": "ZhubxhSVJDvF"
      }
    },
    {
      "cell_type": "code",
      "source": [
        "def encode(sentence):\n",
        "    return sp.encode(sentence.strip(), out_type=int) + [sp.eos_id()]\n",
        "\n",
        "sequences = [encode(l) for l in lines if l.strip()]\n",
        "\n",
        "x_data, y_data = [], []\n",
        "for seq in sequences:\n",
        "    for i in range(1, len(seq)):\n",
        "        chunk = seq[max(0, i-SEQ_LEN):i+1]\n",
        "        x_data.append(chunk[:-1])\n",
        "        y_data.append(chunk[-1])\n",
        "\n",
        "x_data = tf.keras.preprocessing.sequence.pad_sequences(\n",
        "    x_data, maxlen=SEQ_LEN, padding=\"pre\")\n",
        "y_data = np.array(y_data)\n",
        "\n",
        "dataset = tf.data.Dataset.from_tensor_slices((x_data, y_data))\n",
        "dataset = dataset.shuffle(10000).batch(BATCH_SIZE, drop_remainder=True)\n"
      ],
      "metadata": {
        "id": "rsRkh4ZcGPZG"
      },
      "execution_count": 16,
      "outputs": []
    },
    {
      "cell_type": "markdown",
      "source": [
        "##7) Model kurulumu Aktivasyon fonk. Softmax ve Learning rate"
      ],
      "metadata": {
        "id": "e4ZdwaUNKA4a"
      }
    },
    {
      "cell_type": "markdown",
      "source": [
        "model kurulumu için bir tek lstm bir de çoklu lstm arası dropout deneyeceğiz"
      ],
      "metadata": {
        "id": "TGiROTRg7Zoa"
      }
    },
    {
      "cell_type": "code",
      "source": [
        "####Tek lstm kullanmak için bu kodu kullanın\n",
        "model = tf.keras.Sequential([\n",
        "    tf.keras.layers.Embedding(vocab_size, EMBED_DIM, input_length=SEQ_LEN),\n",
        "    tf.keras.layers.LSTM(LSTM_UNITS),\n",
        "    tf.keras.layers.Dense(vocab_size, activation=\"softmax\")\n",
        "])\n",
        "\n",
        "optimizer = Adam(learning_rate=0.001)\n",
        "model.compile(\n",
        "    optimizer=optimizer,\n",
        "    loss=\"sparse_categorical_crossentropy\"\n",
        ")\n"
      ],
      "metadata": {
        "id": "58uLftxjGTui",
        "colab": {
          "base_uri": "https://localhost:8080/"
        },
        "outputId": "c63fe9cf-f08e-4f02-c3a9-6ba3f20efa94"
      },
      "execution_count": 17,
      "outputs": [
        {
          "output_type": "stream",
          "name": "stderr",
          "text": [
            "/usr/local/lib/python3.11/dist-packages/keras/src/layers/core/embedding.py:90: UserWarning: Argument `input_length` is deprecated. Just remove it.\n",
            "  warnings.warn(\n"
          ]
        }
      ]
    },
    {
      "cell_type": "markdown",
      "source": [
        "##8) Model Eğitim Aşaması\n",
        "\n",
        "*öncesinde early stop fonksiyonu koda entegre edilmiştir*"
      ],
      "metadata": {
        "id": "HkP0_qpcKGiB"
      }
    },
    {
      "cell_type": "code",
      "source": [
        "history = model.fit(\n",
        "    dataset,\n",
        "    epochs=EPOCHS\n",
        ")"
      ],
      "metadata": {
        "id": "b_v6I3SWGzrQ",
        "colab": {
          "base_uri": "https://localhost:8080/"
        },
        "outputId": "9d5d8b82-8c41-4508-ec3d-ee4956d43c27"
      },
      "execution_count": 19,
      "outputs": [
        {
          "output_type": "stream",
          "name": "stdout",
          "text": [
            "Epoch 1/10\n",
            "\u001b[1m6161/6161\u001b[0m \u001b[32m━━━━━━━━━━━━━━━━━━━━\u001b[0m\u001b[37m\u001b[0m \u001b[1m189s\u001b[0m 30ms/step - loss: 8.1939\n",
            "Epoch 2/10\n",
            "\u001b[1m6161/6161\u001b[0m \u001b[32m━━━━━━━━━━━━━━━━━━━━\u001b[0m\u001b[37m\u001b[0m \u001b[1m184s\u001b[0m 30ms/step - loss: 6.6659\n",
            "Epoch 3/10\n",
            "\u001b[1m6161/6161\u001b[0m \u001b[32m━━━━━━━━━━━━━━━━━━━━\u001b[0m\u001b[37m\u001b[0m \u001b[1m184s\u001b[0m 30ms/step - loss: 5.4708\n",
            "Epoch 4/10\n",
            "\u001b[1m6161/6161\u001b[0m \u001b[32m━━━━━━━━━━━━━━━━━━━━\u001b[0m\u001b[37m\u001b[0m \u001b[1m184s\u001b[0m 30ms/step - loss: 4.6360\n",
            "Epoch 5/10\n",
            "\u001b[1m6161/6161\u001b[0m \u001b[32m━━━━━━━━━━━━━━━━━━━━\u001b[0m\u001b[37m\u001b[0m \u001b[1m184s\u001b[0m 30ms/step - loss: 4.1058\n",
            "Epoch 6/10\n",
            "\u001b[1m6161/6161\u001b[0m \u001b[32m━━━━━━━━━━━━━━━━━━━━\u001b[0m\u001b[37m\u001b[0m \u001b[1m183s\u001b[0m 30ms/step - loss: 3.8401\n",
            "Epoch 7/10\n",
            "\u001b[1m6161/6161\u001b[0m \u001b[32m━━━━━━━━━━━━━━━━━━━━\u001b[0m\u001b[37m\u001b[0m \u001b[1m183s\u001b[0m 30ms/step - loss: 3.8680\n",
            "Epoch 8/10\n",
            "\u001b[1m6161/6161\u001b[0m \u001b[32m━━━━━━━━━━━━━━━━━━━━\u001b[0m\u001b[37m\u001b[0m \u001b[1m183s\u001b[0m 30ms/step - loss: 6.7208\n",
            "Epoch 9/10\n",
            "\u001b[1m6161/6161\u001b[0m \u001b[32m━━━━━━━━━━━━━━━━━━━━\u001b[0m\u001b[37m\u001b[0m \u001b[1m183s\u001b[0m 30ms/step - loss: 8.1116\n",
            "Epoch 10/10\n",
            "\u001b[1m6161/6161\u001b[0m \u001b[32m━━━━━━━━━━━━━━━━━━━━\u001b[0m\u001b[37m\u001b[0m \u001b[1m184s\u001b[0m 30ms/step - loss: 7.0934\n"
          ]
        }
      ]
    },
    {
      "cell_type": "markdown",
      "source": [
        "History df ile model loss grafik çıktısı"
      ],
      "metadata": {
        "id": "NKSsUn3TCnHx"
      }
    },
    {
      "cell_type": "code",
      "source": [
        "history_df = pd.DataFrame(history.history)"
      ],
      "metadata": {
        "id": "DaHyruEg4VFk"
      },
      "execution_count": 20,
      "outputs": []
    },
    {
      "cell_type": "code",
      "source": [
        "fig = plt.figure(figsize=(15,4), facecolor=\"#B291B6\")\n",
        "fig.suptitle(\"Learning Plot of Model for Loss\")\n",
        "pl = sns.lineplot(data=history_df[\"loss\"], color=\"#444160\")\n",
        "pl.set(ylabel=\"Training Loss\", xlabel=\"Epoch\")\n",
        "plt.show()"
      ],
      "metadata": {
        "id": "qC0_ranb8Nde",
        "colab": {
          "base_uri": "https://localhost:8080/",
          "height": 428
        },
        "outputId": "9f272a41-4f9d-465f-8496-3e8883aa6145"
      },
      "execution_count": 21,
      "outputs": [
        {
          "output_type": "display_data",
          "data": {
            "text/plain": [
              "<Figure size 1500x400 with 1 Axes>"
            ],
            "image/png": "[encoded data removed]"
          },
          "metadata": {}
        }
      ]
    },
    {
      "cell_type": "markdown",
      "source": [
        "##9 Örnekleme Aşaması (NUCLEUS (TOP-p)) kullanıldı."
      ],
      "metadata": {
        "id": "6CctXGGlKKof"
      }
    },
    {
      "cell_type": "code",
      "source": [
        "def sample_top_p(preds, temperature=0.8, top_p=0.9):\n",
        "    preds = np.asarray(preds).astype(\"float64\")\n",
        "    preds = np.log(preds + 1e-8) / temperature\n",
        "    probs = np.exp(preds)\n",
        "    probs = probs / np.sum(probs)\n",
        "    sorted_idx = np.argsort(probs)[::-1]\n",
        "    cumulative = np.cumsum(probs[sorted_idx])\n",
        "    keep = cumulative <= top_p\n",
        "    idxs = sorted_idx[keep]\n",
        "    if len(idxs) == 0:\n",
        "        idxs = sorted_idx[:1]\n",
        "    probs = probs[idxs] / probs[idxs].sum()\n",
        "    return np.random.choice(idxs, p=probs)\n",
        "\n",
        "def generate(seed_text,\n",
        "             max_tokens=120,\n",
        "             temperature=0.8,\n",
        "             top_p=0.9):\n",
        "    ids = sp.encode(seed_text, out_type=int)\n",
        "    for _ in range(max_tokens):\n",
        "        padded = tf.keras.preprocessing.sequence.pad_sequences(\n",
        "            [ids], maxlen=SEQ_LEN, padding=\"pre\")\n",
        "        preds = model.predict(padded, verbose=0)[0]\n",
        "        next_id = sample_top_p(preds, temperature, top_p)\n",
        "        if next_id == sp.eos_id():\n",
        "            break\n",
        "        ids.append(int(next_id))\n",
        "    return sp.decode(ids)\n"
      ],
      "metadata": {
        "id": "lStTyc6wGXV5"
      },
      "execution_count": 22,
      "outputs": []
    },
    {
      "cell_type": "markdown",
      "source": [
        "##9.Örnek üretimi **Proje GenAi kısmı sonu**\n"
      ],
      "metadata": {
        "id": "ILcmMA0GKUKi"
      }
    },
    {
      "cell_type": "code",
      "source": [
        "print(\"---- ÖRNEK ÇIKIŞ ----\")\n",
        "print(generate(\"Geceler kara tren\", max_tokens=120, temperature=0.5, top_p=0.9))\n",
        "#Başlangıç parametrelerimiz çıktı kalitesi idare eder max_tokens=120, temperature=0.8, top_p=0.9))"
      ],
      "metadata": {
        "id": "up6cWF9zGZ51",
        "colab": {
          "base_uri": "https://localhost:8080/"
        },
        "outputId": "224d43bc-5dae-48ab-ad29-22a8817b8458"
      },
      "execution_count": 23,
      "outputs": [
        {
          "output_type": "stream",
          "name": "stdout",
          "text": [
            "---- ÖRNEK ÇIKIŞ ----\n",
            "Geceler kara tren uyandım gecelerde Sonra gizli Bir yanım var varken Ama bir ben bilirim Her şey insanlar Her şey bir şey var içimde bir kez daha duymam lazım Bir bakmışsın geçip gitmişsin mi söyle söyle\n"
          ]
        }
      ]
    }
  ]
}